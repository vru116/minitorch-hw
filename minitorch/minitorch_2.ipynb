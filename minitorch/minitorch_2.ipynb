{
 "cells": [
  {
   "cell_type": "markdown",
   "id": "78536e1f",
   "metadata": {},
   "source": [
    "В 2.1 для понятно, что для двумерного тензора row = ordinal // num_columns, col = ordinal % num_columns. Я спросила у GPT, как расширить на n-мерный. "
   ]
  }
 ],
 "metadata": {
  "language_info": {
   "name": "python"
  }
 },
 "nbformat": 4,
 "nbformat_minor": 5
}
